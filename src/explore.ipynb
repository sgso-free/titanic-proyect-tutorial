{
  "cells": [
    {
      "cell_type": "markdown",
      "metadata": {
        "id": "AcaFHNQhElh4"
      },
      "source": [
        "# Dataset of Titanic:\n",
        "\n",
        "- PassengerId: identificador único del pasajero.\n",
        "\n",
        "- Survived: si el pasajero sobrevivió al naufragio, codificada como 0 (no) y 1 (si). Esta es la variable respuesta que interesa predecir.\n",
        "\n",
        "- Pclass: clase a la que pertenecía el pasajero: 1, 2 o 3.\n",
        "\n",
        "- Name: nombre del pasajero.\n",
        "\n",
        "- Sex: sexo del pasajero.\n",
        "\n",
        "- Age: edad del pasajero.\n",
        "\n",
        "- SibSp: número de hermanos, hermanas, hermanastros o hermanastras en el barco.\n",
        "\n",
        "- Parch: número de padres e hijos en el barco.\n",
        "\n",
        "- Ticket: identificador del billete.\n",
        "\n",
        "- Fare: precio pagado por el billete.\n",
        "\n",
        "- Cabin: identificador del camarote asignado al pasajero.\n",
        "\n",
        "- Embarked: puerto en el que embarcó el pasajero."
      ]
    },
    {
      "cell_type": "markdown",
      "metadata": {
        "id": "Hxtc-5iyIcVg"
      },
      "source": [
        "# Import Library"
      ]
    },
    {
      "cell_type": "code",
      "execution_count": 65,
      "metadata": {
        "id": "ODKtJjWtqY9A"
      },
      "outputs": [],
      "source": [
        "import numpy as np\n",
        "import pandas as pd\n",
        "import matplotlib.pyplot as plt\n",
        "%matplotlib inline\n",
        "\n",
        "import seaborn as sns\n",
        "\n",
        "from sklearn.model_selection import train_test_split, cross_val_score, GridSearchCV\n",
        "from sklearn.tree import DecisionTreeClassifier, plot_tree\n",
        "from sklearn.metrics import confusion_matrix, ConfusionMatrixDisplay"
      ]
    },
    {
      "cell_type": "markdown",
      "metadata": {
        "id": "8LLculW0Il90"
      },
      "source": [
        "# Import Data and Explore"
      ]
    },
    {
      "cell_type": "code",
      "execution_count": 66,
      "metadata": {
        "id": "2DlODMM0qbjF"
      },
      "outputs": [],
      "source": [
        "#Import data from csv\n",
        "train_data = pd.read_csv('https://raw.githubusercontent.com/4GeeksAcademy/random-forest-project-tutorial/main/titanic_train.csv', sep=\",\")\n",
        " "
      ]
    },
    {
      "cell_type": "code",
      "execution_count": 67,
      "metadata": {
        "colab": {
          "base_uri": "https://localhost:8080/"
        },
        "id": "TDt32-0wJ8tb",
        "outputId": "2bb4e25b-74ee-466d-877c-b686eee1eb40"
      },
      "outputs": [
        {
          "name": "stdout",
          "output_type": "stream",
          "text": [
            "Train Data Shape:  (891, 12)\n"
          ]
        }
      ],
      "source": [
        "#Let's see how many rows and columns does my train_data has.\n",
        "print(\"Train Data Shape: \" ,train_data.shape)"
      ]
    },
    {
      "cell_type": "code",
      "execution_count": 68,
      "metadata": {
        "colab": {
          "base_uri": "https://localhost:8080/"
        },
        "id": "Qr2HuAw0uaCw",
        "outputId": "573bd23e-da9d-4692-c6ce-90321b462753"
      },
      "outputs": [
        {
          "name": "stdout",
          "output_type": "stream",
          "text": [
            "<class 'pandas.core.frame.DataFrame'>\n",
            "RangeIndex: 891 entries, 0 to 890\n",
            "Data columns (total 12 columns):\n",
            " #   Column       Non-Null Count  Dtype  \n",
            "---  ------       --------------  -----  \n",
            " 0   PassengerId  891 non-null    int64  \n",
            " 1   Survived     891 non-null    int64  \n",
            " 2   Pclass       891 non-null    int64  \n",
            " 3   Name         891 non-null    object \n",
            " 4   Sex          891 non-null    object \n",
            " 5   Age          714 non-null    float64\n",
            " 6   SibSp        891 non-null    int64  \n",
            " 7   Parch        891 non-null    int64  \n",
            " 8   Ticket       891 non-null    object \n",
            " 9   Fare         891 non-null    float64\n",
            " 10  Cabin        204 non-null    object \n",
            " 11  Embarked     889 non-null    object \n",
            "dtypes: float64(2), int64(5), object(5)\n",
            "memory usage: 83.7+ KB\n"
          ]
        }
      ],
      "source": [
        "train_data.info()\n"
      ]
    },
    {
      "cell_type": "markdown",
      "metadata": {
        "id": "ceZXLZK0MBlU"
      },
      "source": [
        "Observations:\n",
        "\n",
        "- We can see that our train_data has 891 rows and 12 columns.\n",
        "\n",
        "- Our data has 7 numerical features and 5 categorical features.\n",
        "\n",
        "- Feature 'Age' has 714 non-null values from a total of 891 rows, which means that our 'Age' column has 177 null values. \n",
        "- The same happens with our 'Cabin' feature having 687 null values, and 'Embarked' feature with 2 null values.\n",
        "\n",
        "## Note: age have 80% of info"
      ]
    },
    {
      "cell_type": "markdown",
      "metadata": {
        "id": "cLDMNNIHKoPx"
      },
      "source": [
        "# Explore Train Data"
      ]
    },
    {
      "cell_type": "code",
      "execution_count": 69,
      "metadata": {
        "colab": {
          "base_uri": "https://localhost:8080/",
          "height": 363
        },
        "id": "lXRnMrxyuJLU",
        "outputId": "59caee5e-f330-4256-b168-ab86ae665137"
      },
      "outputs": [
        {
          "data": {
            "text/html": [
              "<div>\n",
              "<style scoped>\n",
              "    .dataframe tbody tr th:only-of-type {\n",
              "        vertical-align: middle;\n",
              "    }\n",
              "\n",
              "    .dataframe tbody tr th {\n",
              "        vertical-align: top;\n",
              "    }\n",
              "\n",
              "    .dataframe thead th {\n",
              "        text-align: right;\n",
              "    }\n",
              "</style>\n",
              "<table border=\"1\" class=\"dataframe\">\n",
              "  <thead>\n",
              "    <tr style=\"text-align: right;\">\n",
              "      <th></th>\n",
              "      <th>PassengerId</th>\n",
              "      <th>Survived</th>\n",
              "      <th>Pclass</th>\n",
              "      <th>Name</th>\n",
              "      <th>Sex</th>\n",
              "      <th>Age</th>\n",
              "      <th>SibSp</th>\n",
              "      <th>Parch</th>\n",
              "      <th>Ticket</th>\n",
              "      <th>Fare</th>\n",
              "      <th>Cabin</th>\n",
              "      <th>Embarked</th>\n",
              "    </tr>\n",
              "  </thead>\n",
              "  <tbody>\n",
              "    <tr>\n",
              "      <th>284</th>\n",
              "      <td>285</td>\n",
              "      <td>0</td>\n",
              "      <td>1</td>\n",
              "      <td>Smith, Mr. Richard William</td>\n",
              "      <td>male</td>\n",
              "      <td>NaN</td>\n",
              "      <td>0</td>\n",
              "      <td>0</td>\n",
              "      <td>113056</td>\n",
              "      <td>26.0000</td>\n",
              "      <td>A19</td>\n",
              "      <td>S</td>\n",
              "    </tr>\n",
              "    <tr>\n",
              "      <th>620</th>\n",
              "      <td>621</td>\n",
              "      <td>0</td>\n",
              "      <td>3</td>\n",
              "      <td>Yasbeck, Mr. Antoni</td>\n",
              "      <td>male</td>\n",
              "      <td>27.0</td>\n",
              "      <td>1</td>\n",
              "      <td>0</td>\n",
              "      <td>2659</td>\n",
              "      <td>14.4542</td>\n",
              "      <td>NaN</td>\n",
              "      <td>C</td>\n",
              "    </tr>\n",
              "    <tr>\n",
              "      <th>159</th>\n",
              "      <td>160</td>\n",
              "      <td>0</td>\n",
              "      <td>3</td>\n",
              "      <td>Sage, Master. Thomas Henry</td>\n",
              "      <td>male</td>\n",
              "      <td>NaN</td>\n",
              "      <td>8</td>\n",
              "      <td>2</td>\n",
              "      <td>CA. 2343</td>\n",
              "      <td>69.5500</td>\n",
              "      <td>NaN</td>\n",
              "      <td>S</td>\n",
              "    </tr>\n",
              "    <tr>\n",
              "      <th>592</th>\n",
              "      <td>593</td>\n",
              "      <td>0</td>\n",
              "      <td>3</td>\n",
              "      <td>Elsbury, Mr. William James</td>\n",
              "      <td>male</td>\n",
              "      <td>47.0</td>\n",
              "      <td>0</td>\n",
              "      <td>0</td>\n",
              "      <td>A/5 3902</td>\n",
              "      <td>7.2500</td>\n",
              "      <td>NaN</td>\n",
              "      <td>S</td>\n",
              "    </tr>\n",
              "    <tr>\n",
              "      <th>537</th>\n",
              "      <td>538</td>\n",
              "      <td>1</td>\n",
              "      <td>1</td>\n",
              "      <td>LeRoy, Miss. Bertha</td>\n",
              "      <td>female</td>\n",
              "      <td>30.0</td>\n",
              "      <td>0</td>\n",
              "      <td>0</td>\n",
              "      <td>PC 17761</td>\n",
              "      <td>106.4250</td>\n",
              "      <td>NaN</td>\n",
              "      <td>C</td>\n",
              "    </tr>\n",
              "    <tr>\n",
              "      <th>470</th>\n",
              "      <td>471</td>\n",
              "      <td>0</td>\n",
              "      <td>3</td>\n",
              "      <td>Keefe, Mr. Arthur</td>\n",
              "      <td>male</td>\n",
              "      <td>NaN</td>\n",
              "      <td>0</td>\n",
              "      <td>0</td>\n",
              "      <td>323592</td>\n",
              "      <td>7.2500</td>\n",
              "      <td>NaN</td>\n",
              "      <td>S</td>\n",
              "    </tr>\n",
              "    <tr>\n",
              "      <th>679</th>\n",
              "      <td>680</td>\n",
              "      <td>1</td>\n",
              "      <td>1</td>\n",
              "      <td>Cardeza, Mr. Thomas Drake Martinez</td>\n",
              "      <td>male</td>\n",
              "      <td>36.0</td>\n",
              "      <td>0</td>\n",
              "      <td>1</td>\n",
              "      <td>PC 17755</td>\n",
              "      <td>512.3292</td>\n",
              "      <td>B51 B53 B55</td>\n",
              "      <td>C</td>\n",
              "    </tr>\n",
              "    <tr>\n",
              "      <th>250</th>\n",
              "      <td>251</td>\n",
              "      <td>0</td>\n",
              "      <td>3</td>\n",
              "      <td>Reed, Mr. James George</td>\n",
              "      <td>male</td>\n",
              "      <td>NaN</td>\n",
              "      <td>0</td>\n",
              "      <td>0</td>\n",
              "      <td>362316</td>\n",
              "      <td>7.2500</td>\n",
              "      <td>NaN</td>\n",
              "      <td>S</td>\n",
              "    </tr>\n",
              "    <tr>\n",
              "      <th>302</th>\n",
              "      <td>303</td>\n",
              "      <td>0</td>\n",
              "      <td>3</td>\n",
              "      <td>Johnson, Mr. William Cahoone Jr</td>\n",
              "      <td>male</td>\n",
              "      <td>19.0</td>\n",
              "      <td>0</td>\n",
              "      <td>0</td>\n",
              "      <td>LINE</td>\n",
              "      <td>0.0000</td>\n",
              "      <td>NaN</td>\n",
              "      <td>S</td>\n",
              "    </tr>\n",
              "    <tr>\n",
              "      <th>227</th>\n",
              "      <td>228</td>\n",
              "      <td>0</td>\n",
              "      <td>3</td>\n",
              "      <td>Lovell, Mr. John Hall (\"Henry\")</td>\n",
              "      <td>male</td>\n",
              "      <td>20.5</td>\n",
              "      <td>0</td>\n",
              "      <td>0</td>\n",
              "      <td>A/5 21173</td>\n",
              "      <td>7.2500</td>\n",
              "      <td>NaN</td>\n",
              "      <td>S</td>\n",
              "    </tr>\n",
              "  </tbody>\n",
              "</table>\n",
              "</div>"
            ],
            "text/plain": [
              "     PassengerId  Survived  Pclass                                Name  \\\n",
              "284          285         0       1          Smith, Mr. Richard William   \n",
              "620          621         0       3                 Yasbeck, Mr. Antoni   \n",
              "159          160         0       3          Sage, Master. Thomas Henry   \n",
              "592          593         0       3          Elsbury, Mr. William James   \n",
              "537          538         1       1                 LeRoy, Miss. Bertha   \n",
              "470          471         0       3                   Keefe, Mr. Arthur   \n",
              "679          680         1       1  Cardeza, Mr. Thomas Drake Martinez   \n",
              "250          251         0       3              Reed, Mr. James George   \n",
              "302          303         0       3     Johnson, Mr. William Cahoone Jr   \n",
              "227          228         0       3     Lovell, Mr. John Hall (\"Henry\")   \n",
              "\n",
              "        Sex   Age  SibSp  Parch     Ticket      Fare        Cabin Embarked  \n",
              "284    male   NaN      0      0     113056   26.0000          A19        S  \n",
              "620    male  27.0      1      0       2659   14.4542          NaN        C  \n",
              "159    male   NaN      8      2   CA. 2343   69.5500          NaN        S  \n",
              "592    male  47.0      0      0   A/5 3902    7.2500          NaN        S  \n",
              "537  female  30.0      0      0   PC 17761  106.4250          NaN        C  \n",
              "470    male   NaN      0      0     323592    7.2500          NaN        S  \n",
              "679    male  36.0      0      1   PC 17755  512.3292  B51 B53 B55        C  \n",
              "250    male   NaN      0      0     362316    7.2500          NaN        S  \n",
              "302    male  19.0      0      0       LINE    0.0000          NaN        S  \n",
              "227    male  20.5      0      0  A/5 21173    7.2500          NaN        S  "
            ]
          },
          "execution_count": 69,
          "metadata": {},
          "output_type": "execute_result"
        }
      ],
      "source": [
        "train_data.sample(10)"
      ]
    },
    {
      "cell_type": "code",
      "execution_count": 70,
      "metadata": {
        "id": "E5gsI23NukBd"
      },
      "outputs": [],
      "source": [
        "#Change datatype\n",
        "train_data['Survived']=pd.Categorical(train_data['Survived'])\n",
        "train_data['Sex']=pd.Categorical(train_data['Sex'])\n",
        "train_data['Embarked']=pd.Categorical(train_data['Embarked'])\n"
      ]
    },
    {
      "cell_type": "code",
      "execution_count": 71,
      "metadata": {
        "colab": {
          "base_uri": "https://localhost:8080/",
          "height": 300
        },
        "id": "yXx6gp6rq2cg",
        "outputId": "220527f0-80da-4824-82ec-2e492f03e3fa"
      },
      "outputs": [
        {
          "data": {
            "text/html": [
              "<div>\n",
              "<style scoped>\n",
              "    .dataframe tbody tr th:only-of-type {\n",
              "        vertical-align: middle;\n",
              "    }\n",
              "\n",
              "    .dataframe tbody tr th {\n",
              "        vertical-align: top;\n",
              "    }\n",
              "\n",
              "    .dataframe thead th {\n",
              "        text-align: right;\n",
              "    }\n",
              "</style>\n",
              "<table border=\"1\" class=\"dataframe\">\n",
              "  <thead>\n",
              "    <tr style=\"text-align: right;\">\n",
              "      <th></th>\n",
              "      <th>PassengerId</th>\n",
              "      <th>Pclass</th>\n",
              "      <th>Age</th>\n",
              "      <th>SibSp</th>\n",
              "      <th>Parch</th>\n",
              "      <th>Fare</th>\n",
              "    </tr>\n",
              "  </thead>\n",
              "  <tbody>\n",
              "    <tr>\n",
              "      <th>count</th>\n",
              "      <td>891.000000</td>\n",
              "      <td>891.000000</td>\n",
              "      <td>714.000000</td>\n",
              "      <td>891.000000</td>\n",
              "      <td>891.000000</td>\n",
              "      <td>891.000000</td>\n",
              "    </tr>\n",
              "    <tr>\n",
              "      <th>mean</th>\n",
              "      <td>446.000000</td>\n",
              "      <td>2.308642</td>\n",
              "      <td>29.699118</td>\n",
              "      <td>0.523008</td>\n",
              "      <td>0.381594</td>\n",
              "      <td>32.204208</td>\n",
              "    </tr>\n",
              "    <tr>\n",
              "      <th>std</th>\n",
              "      <td>257.353842</td>\n",
              "      <td>0.836071</td>\n",
              "      <td>14.526497</td>\n",
              "      <td>1.102743</td>\n",
              "      <td>0.806057</td>\n",
              "      <td>49.693429</td>\n",
              "    </tr>\n",
              "    <tr>\n",
              "      <th>min</th>\n",
              "      <td>1.000000</td>\n",
              "      <td>1.000000</td>\n",
              "      <td>0.420000</td>\n",
              "      <td>0.000000</td>\n",
              "      <td>0.000000</td>\n",
              "      <td>0.000000</td>\n",
              "    </tr>\n",
              "    <tr>\n",
              "      <th>25%</th>\n",
              "      <td>223.500000</td>\n",
              "      <td>2.000000</td>\n",
              "      <td>20.125000</td>\n",
              "      <td>0.000000</td>\n",
              "      <td>0.000000</td>\n",
              "      <td>7.910400</td>\n",
              "    </tr>\n",
              "    <tr>\n",
              "      <th>50%</th>\n",
              "      <td>446.000000</td>\n",
              "      <td>3.000000</td>\n",
              "      <td>28.000000</td>\n",
              "      <td>0.000000</td>\n",
              "      <td>0.000000</td>\n",
              "      <td>14.454200</td>\n",
              "    </tr>\n",
              "    <tr>\n",
              "      <th>75%</th>\n",
              "      <td>668.500000</td>\n",
              "      <td>3.000000</td>\n",
              "      <td>38.000000</td>\n",
              "      <td>1.000000</td>\n",
              "      <td>0.000000</td>\n",
              "      <td>31.000000</td>\n",
              "    </tr>\n",
              "    <tr>\n",
              "      <th>max</th>\n",
              "      <td>891.000000</td>\n",
              "      <td>3.000000</td>\n",
              "      <td>80.000000</td>\n",
              "      <td>8.000000</td>\n",
              "      <td>6.000000</td>\n",
              "      <td>512.329200</td>\n",
              "    </tr>\n",
              "  </tbody>\n",
              "</table>\n",
              "</div>"
            ],
            "text/plain": [
              "       PassengerId      Pclass         Age       SibSp       Parch        Fare\n",
              "count   891.000000  891.000000  714.000000  891.000000  891.000000  891.000000\n",
              "mean    446.000000    2.308642   29.699118    0.523008    0.381594   32.204208\n",
              "std     257.353842    0.836071   14.526497    1.102743    0.806057   49.693429\n",
              "min       1.000000    1.000000    0.420000    0.000000    0.000000    0.000000\n",
              "25%     223.500000    2.000000   20.125000    0.000000    0.000000    7.910400\n",
              "50%     446.000000    3.000000   28.000000    0.000000    0.000000   14.454200\n",
              "75%     668.500000    3.000000   38.000000    1.000000    0.000000   31.000000\n",
              "max     891.000000    3.000000   80.000000    8.000000    6.000000  512.329200"
            ]
          },
          "execution_count": 71,
          "metadata": {},
          "output_type": "execute_result"
        }
      ],
      "source": [
        "train_data.describe()"
      ]
    },
    {
      "cell_type": "code",
      "execution_count": 72,
      "metadata": {
        "colab": {
          "base_uri": "https://localhost:8080/",
          "height": 295
        },
        "id": "twL2KIFAPrcO",
        "outputId": "2a257134-8e63-4358-a16c-0c5035871d43"
      },
      "outputs": [
        {
          "data": {
            "image/png": "[encoded data removed]",
            "text/plain": [
              "<Figure size 432x288 with 1 Axes>"
            ]
          },
          "metadata": {
            "needs_background": "light"
          },
          "output_type": "display_data"
        }
      ],
      "source": [
        "#Let's first visualize the distribution of our target variable.\n",
        "\n",
        "sns.countplot(x=train_data['Survived'])\n",
        "plt.title('Distribution of passenger survival status')\n",
        "plt.show()"
      ]
    },
    {
      "cell_type": "code",
      "execution_count": 73,
      "metadata": {
        "colab": {
          "base_uri": "https://localhost:8080/"
        },
        "id": "0WtcFaOprJk5",
        "outputId": "afaa0460-16e9-4899-b5d7-f67c6d21dba9"
      },
      "outputs": [
        {
          "name": "stdout",
          "output_type": "stream",
          "text": [
            "Men-NoS:468, Men-S:109, Men-Tot:577, Survived%: 19\n",
            "Fem-NoS:81, Fem-S:233, Fem-Tot:314, Survived%: 74\n"
          ]
        }
      ],
      "source": [
        "#Let investigate about sex and survived\n",
        "mn = train_data[(train_data[\"Sex\"]==\"male\") & (train_data[\"Survived\"]==0)]\n",
        "fn = train_data[(train_data[\"Sex\"]==\"female\") & (train_data[\"Survived\"]==0)]\n",
        "ms = train_data[(train_data[\"Sex\"]==\"male\") & (train_data[\"Survived\"]==1)]\n",
        "fs = train_data[(train_data[\"Sex\"]==\"female\") & (train_data[\"Survived\"]==1)]\n",
        "mn = len(mn)\n",
        "fn = len(fn)\n",
        "ms = len(ms)\n",
        "fs = len(fs)\n",
        "print(f\"Men-NoS:{mn}, Men-S:{ms}, Men-Tot:{mn+ms}, Survived%: {round((ms/(mn+ms))*100)}\")\n",
        "print(f\"Fem-NoS:{fn}, Fem-S:{fs}, Fem-Tot:{fn+fs}, Survived%: {round((fs/(fn+fs))*100)}\")"
      ]
    },
    {
      "cell_type": "code",
      "execution_count": 74,
      "metadata": {
        "colab": {
          "base_uri": "https://localhost:8080/",
          "height": 444
        },
        "id": "Kk7OJcIPrb4F",
        "outputId": "3efefd5f-1dca-4271-f00e-d03aa7b6c4dc"
      },
      "outputs": [
        {
          "data": {
            "image/png": "[encoded data removed]",
            "text/plain": [
              "<Figure size 648x504 with 6 Axes>"
            ]
          },
          "metadata": {
            "needs_background": "light"
          },
          "output_type": "display_data"
        }
      ],
      "source": [
        "train_data.hist(bins=10,figsize=(9,7),grid=False);\n",
        "plt.show()"
      ]
    },
    {
      "cell_type": "markdown",
      "metadata": {
        "id": "Y1IPbeW7SV9U"
      },
      "source": [
        "## Countplot for categorical variables"
      ]
    },
    {
      "cell_type": "code",
      "execution_count": 75,
      "metadata": {
        "id": "FOIqDLFRSc2-"
      },
      "outputs": [],
      "source": [
        "#Let's check the categories in each of our object type features\n",
        "\n",
        "def countplot_features(feature):\n",
        "    plot=sns.countplot(x=feature,data=train_data)\n",
        "    plt.show()\n",
        "\n",
        "def countplot_targetvsfeature(feature,y):\n",
        "    fig = plt.figure(figsize=(10,5))\n",
        "    plot=sns.countplot(x=feature,data=train_data,hue=y)\n",
        "    plt.show()    "
      ]
    },
    {
      "cell_type": "code",
      "execution_count": 76,
      "metadata": {
        "colab": {
          "base_uri": "https://localhost:8080/",
          "height": 334
        },
        "id": "5GX2eGUGUKUX",
        "outputId": "f9b4f367-8dc9-49a6-bbb6-d4833c2c538b"
      },
      "outputs": [
        {
          "data": {
            "image/png": "[encoded data removed]",
            "text/plain": [
              "<Figure size 720x360 with 1 Axes>"
            ]
          },
          "metadata": {
            "needs_background": "light"
          },
          "output_type": "display_data"
        }
      ],
      "source": [
        "countplot_targetvsfeature('Sex','Survived')"
      ]
    },
    {
      "cell_type": "code",
      "execution_count": 77,
      "metadata": {
        "colab": {
          "base_uri": "https://localhost:8080/",
          "height": 334
        },
        "id": "hPDRSpuoWPrJ",
        "outputId": "5ca076bf-b95a-489b-924e-d6160d1cecfe"
      },
      "outputs": [
        {
          "data": {
            "image/png": "[encoded data removed]",
            "text/plain": [
              "<Figure size 720x360 with 1 Axes>"
            ]
          },
          "metadata": {
            "needs_background": "light"
          },
          "output_type": "display_data"
        }
      ],
      "source": [
        "countplot_targetvsfeature('Pclass','Survived')"
      ]
    },
    {
      "cell_type": "markdown",
      "metadata": {
        "id": "E1lIEi-6XtUg"
      },
      "source": [
        "Observations: Most of the passengers were travelling in the third class, but most of them did not survive. However, in the first class, most of the passengers survived."
      ]
    },
    {
      "cell_type": "markdown",
      "metadata": {
        "id": "ZIW6ktgmX-x1"
      },
      "source": [
        "# Distribution Plots for Continuous variables\n",
        "In the hist see that age, have a normal distrbution. Now Plot to show this"
      ]
    },
    {
      "cell_type": "code",
      "execution_count": 78,
      "metadata": {
        "colab": {
          "base_uri": "https://localhost:8080/",
          "height": 386
        },
        "id": "rkQLyTOyYMcv",
        "outputId": "621af237-e977-4a3c-fbb2-1936b0b37ba2"
      },
      "outputs": [
        {
          "data": {
            "text/plain": [
              "<seaborn.axisgrid.FacetGrid at 0x7ff4269759d0>"
            ]
          },
          "execution_count": 78,
          "metadata": {},
          "output_type": "execute_result"
        },
        {
          "data": {
            "image/png": "[encoded data removed]",
            "text/plain": [
              "<Figure size 402.375x360 with 1 Axes>"
            ]
          },
          "metadata": {
            "needs_background": "light"
          },
          "output_type": "display_data"
        }
      ],
      "source": [
        "#Let's plot the Probability Density Function (PDF) of Age of 891 passengers traveling in the Titanic.\n",
        "#kde=True show the density, if use kind=\"kde\" show only the density\n",
        "sns.displot(data =train_data,x='Age', hue='Pclass', kde=True)"
      ]
    },
    {
      "cell_type": "code",
      "execution_count": 79,
      "metadata": {
        "colab": {
          "base_uri": "https://localhost:8080/",
          "height": 296
        },
        "id": "VQGpS2AJ8vFo",
        "outputId": "f03ad3dd-f683-4b38-d69e-7eb448b9917d"
      },
      "outputs": [
        {
          "data": {
            "text/plain": [
              "(0.0, 1.05)"
            ]
          },
          "execution_count": 79,
          "metadata": {},
          "output_type": "execute_result"
        },
        {
          "data": {
            "image/png": "[encoded data removed]",
            "text/plain": [
              "<Figure size 432x288 with 1 Axes>"
            ]
          },
          "metadata": {
            "needs_background": "light"
          },
          "output_type": "display_data"
        }
      ],
      "source": [
        "sns.regplot(x = \"Age\", y = \"Survived\", data = train_data)\n",
        "plt.ylim(0,)"
      ]
    },
    {
      "cell_type": "code",
      "execution_count": 80,
      "metadata": {
        "colab": {
          "base_uri": "https://localhost:8080/",
          "height": 282
        },
        "id": "-eteoQPO9JZH",
        "outputId": "fb887e21-82cf-4b45-fe6c-9c69ed8125e0"
      },
      "outputs": [
        {
          "data": {
            "text/plain": [
              "<matplotlib.collections.PathCollection at 0x7ff426a27130>"
            ]
          },
          "execution_count": 80,
          "metadata": {},
          "output_type": "execute_result"
        },
        {
          "data": {
            "image/png": "[encoded data removed]",
            "text/plain": [
              "<Figure size 432x288 with 1 Axes>"
            ]
          },
          "metadata": {
            "needs_background": "light"
          },
          "output_type": "display_data"
        }
      ],
      "source": [
        "plt.scatter(x = \"Age\", y = \"Survived\", data = train_data)"
      ]
    },
    {
      "cell_type": "markdown",
      "metadata": {
        "id": "pCPM8fGS-T6T"
      },
      "source": [
        "Observations:\n",
        "\n",
        "There is clear negative linear relation between Age and our target variable. This makes sense considering that children was one of the groups who had preference in using the boats to survive (Survive = 1)."
      ]
    },
    {
      "cell_type": "code",
      "execution_count": 81,
      "metadata": {
        "colab": {
          "base_uri": "https://localhost:8080/",
          "height": 296
        },
        "id": "7XRpgFm8-6Ey",
        "outputId": "ff6e7fbd-7ae8-4427-c2a5-d851de99c5bf"
      },
      "outputs": [
        {
          "data": {
            "text/plain": [
              "(0.0, 2.1574647681591483)"
            ]
          },
          "execution_count": 81,
          "metadata": {},
          "output_type": "execute_result"
        },
        {
          "data": {
            "image/png": "[encoded data removed]",
            "text/plain": [
              "<Figure size 432x288 with 1 Axes>"
            ]
          },
          "metadata": {
            "needs_background": "light"
          },
          "output_type": "display_data"
        }
      ],
      "source": [
        "# View if there is a linear relation between continuous numerical variable Fare & target variable Survived.\n",
        "\n",
        "sns.regplot(x = \"Fare\", y = \"Survived\", data = train_data)\n",
        "plt.ylim(0,)"
      ]
    },
    {
      "cell_type": "markdown",
      "metadata": {
        "id": "4FVRIVo7_8Ce"
      },
      "source": [
        "Observations:\n",
        "\n",
        "Yes, there is a positive linear relation between 'Fare' and 'Survived' feature which means that people who paid a more expensive fare had more probabilities to survive (Survive = 1)."
      ]
    },
    {
      "cell_type": "code",
      "execution_count": 82,
      "metadata": {
        "id": "qih34BT3sWG5"
      },
      "outputs": [],
      "source": [
        "#DV = variable a pronosticar o variable dependiente\n",
        "#IV = variable explicativas o variables independientes"
      ]
    },
    {
      "cell_type": "markdown",
      "metadata": {
        "id": "pxlqq4ORjFm_"
      },
      "source": [
        "# Studie duplicates and irrelevant column"
      ]
    },
    {
      "cell_type": "code",
      "execution_count": 83,
      "metadata": {
        "colab": {
          "base_uri": "https://localhost:8080/"
        },
        "id": "7Nm5EPsdAO3T",
        "outputId": "2cd69c21-575c-4113-dce1-b8ee8593a705"
      },
      "outputs": [
        {
          "data": {
            "text/plain": [
              "0"
            ]
          },
          "execution_count": 83,
          "metadata": {},
          "output_type": "execute_result"
        }
      ],
      "source": [
        "#Search to duplicate data\n",
        "train_duplicates = train_data['PassengerId'].duplicated().sum()\n",
        "train_duplicates"
      ]
    },
    {
      "cell_type": "code",
      "execution_count": 84,
      "metadata": {
        "id": "WMH1ejlFjJyh"
      },
      "outputs": [],
      "source": [
        "#Eliminating irrelevant data, not use\n",
        "drop_cols = ['PassengerId','Cabin', 'Ticket', 'Name']\n",
        "train_data.drop(drop_cols, axis = 1, inplace = True)\n"
      ]
    },
    {
      "cell_type": "markdown",
      "metadata": {
        "id": "c1YqfaBfjrw4"
      },
      "source": [
        "# Plotting different features against one other"
      ]
    },
    {
      "cell_type": "markdown",
      "metadata": {
        "id": "yJReVrQouavn"
      },
      "source": [
        "## What is a Correlation Coefficient? \n",
        "A coefficient of correlation is a value between -1 and +1 that denotes both the strength and directionality of a relationship between two variables. \n",
        "- The closer the value is to 1 (or -1), the stronger a relationship. \n",
        "- The closer a number is to 0, the weaker the relationship. \n",
        "- A negative coefficient will tell us that the relationship is negative, meaning that as one value increases, the other decreases. Similarly, a positive coefficient indicates that as one value increases, as does the other."
      ]
    },
    {
      "cell_type": "code",
      "execution_count": 85,
      "metadata": {
        "colab": {
          "base_uri": "https://localhost:8080/"
        },
        "id": "S0-uC5_OjuuN",
        "outputId": "b91d2722-51b8-4c9d-c9fa-5f9efebbf0f3"
      },
      "outputs": [
        {
          "name": "stdout",
          "output_type": "stream",
          "text": [
            "          Pclass       Age     SibSp     Parch      Fare\n",
            "Pclass  1.000000 -0.369226  0.083081  0.018443 -0.549500\n",
            "Age    -0.369226  1.000000 -0.308247 -0.189119  0.096067\n",
            "SibSp   0.083081 -0.308247  1.000000  0.414838  0.159651\n",
            "Parch   0.018443 -0.189119  0.414838  1.000000  0.216225\n",
            "Fare   -0.549500  0.096067  0.159651  0.216225  1.000000\n"
          ]
        }
      ],
      "source": [
        "matrix = train_data.corr()\n",
        "print(matrix)"
      ]
    },
    {
      "cell_type": "code",
      "execution_count": 86,
      "metadata": {
        "colab": {
          "base_uri": "https://localhost:8080/",
          "height": 504
        },
        "id": "ov9MzHcZlbHY",
        "outputId": "83e35668-0ccf-4a04-fced-db9d6e78bbc6"
      },
      "outputs": [
        {
          "data": {
            "text/plain": [
              "<AxesSubplot:>"
            ]
          },
          "execution_count": 86,
          "metadata": {},
          "output_type": "execute_result"
        },
        {
          "data": {
            "image/png": "[encoded data removed]",
            "text/plain": [
              "<Figure size 864x576 with 2 Axes>"
            ]
          },
          "metadata": {
            "needs_background": "light"
          },
          "output_type": "display_data"
        }
      ],
      "source": [
        "#Plotting a heatmap to find relations between features\n",
        "\n",
        "plt.figure(figsize=(12, 8))\n",
        "sns.heatmap(train_data.corr(), annot=True,cmap='viridis', vmax=1, vmin=-1, center=0)"
      ]
    },
    {
      "cell_type": "markdown",
      "metadata": {
        "id": "hLQ3GSQOqzpo"
      },
      "source": [
        "Observations:\n",
        "\n",
        "Here you can infer that there is a strong negative relation between Fare and PClass. This is totally understandable because if a passenger instead of buying a ticket in 1st class (PClass = 1), decided to buy a ticket in 3rd class (PClass = 3), the ticket fare would certainly decrease.\n",
        "\n",
        "There is also a negative relation between the passenger class (pclass) and the age of the passenger. That means that 3rd class (Pclass = 3) had younger passengers than the 1st class (Pclass = 1).\n",
        "\n",
        "Also, we can see that Pclass is very related to the target variable 'Survived'. So the better passenger class, more probabilities to survive. We can confirm this relationship with the following graph."
      ]
    },
    {
      "cell_type": "code",
      "execution_count": 87,
      "metadata": {
        "colab": {
          "base_uri": "https://localhost:8080/",
          "height": 279
        },
        "id": "teBLEbRus6S5",
        "outputId": "9dee8213-036f-4ee1-8a1f-6da75c2f9b96"
      },
      "outputs": [
        {
          "data": {
            "image/png": "[encoded data removed]",
            "text/plain": [
              "<Figure size 576x288 with 1 Axes>"
            ]
          },
          "metadata": {
            "needs_background": "light"
          },
          "output_type": "display_data"
        }
      ],
      "source": [
        "#Checking correlation between Pclass and Fare:\n",
        "plt.figure(figsize = (8, 4))\n",
        "sns.boxplot(y = train_data.Pclass, x = train_data.Fare, orient = 'h', showfliers = False, palette = 'gist_heat')\n",
        "plt.ylabel('Passenger Class')\n",
        "plt.yticks([0,1,2], ['First Class','Second Class', 'Third Class'])\n",
        "plt.show()"
      ]
    },
    {
      "cell_type": "code",
      "execution_count": 88,
      "metadata": {
        "colab": {
          "base_uri": "https://localhost:8080/",
          "height": 279
        },
        "id": "uADkUr9ytJEm",
        "outputId": "1ba6ca06-09a4-4cfe-feda-e0611217a8a1"
      },
      "outputs": [
        {
          "data": {
            "image/png": "[encoded data removed]",
            "text/plain": [
              "<Figure size 576x288 with 1 Axes>"
            ]
          },
          "metadata": {
            "needs_background": "light"
          },
          "output_type": "display_data"
        }
      ],
      "source": [
        "#Checking correlation between Pclass and Age:\n",
        "#The parameter showfliers = False is ignoring the outliers. But if we do not establish that parameter, we can use boxplots to view outliers.\n",
        "plt.figure(figsize = (8, 4))\n",
        "sns.boxplot(y = train_data.Pclass, x = train_data.Age, orient = 'h', showfliers = False, palette = 'gist_heat')\n",
        "plt.ylabel('Passenger Class')\n",
        "plt.yticks([0,1,2], ['First Class','Second Class', 'Third Class'])\n",
        "plt.show()"
      ]
    },
    {
      "cell_type": "code",
      "execution_count": 89,
      "metadata": {
        "colab": {
          "base_uri": "https://localhost:8080/",
          "height": 279
        },
        "id": "KAWdjW_DtcR1",
        "outputId": "1cd28e75-1a4c-41c5-fa9a-650e95bf1865"
      },
      "outputs": [
        {
          "data": {
            "image/png": "[encoded data removed]",
            "text/plain": [
              "<Figure size 576x288 with 1 Axes>"
            ]
          },
          "metadata": {
            "needs_background": "light"
          },
          "output_type": "display_data"
        }
      ],
      "source": [
        "#Checking correlation between Survived and Age:\n",
        "plt.figure(figsize = (8, 4))\n",
        "sns.boxplot(y = train_data.Survived, x = train_data.Age, orient = 'h', showfliers = False, palette = 'gist_heat')\n",
        "plt.ylabel('Survived')\n",
        "plt.yticks([0,1], ['No','Si'])\n",
        "plt.show()"
      ]
    },
    {
      "cell_type": "markdown",
      "metadata": {
        "id": "_kwFu5tJw7xc"
      },
      "source": [
        "# OUTLIERS"
      ]
    },
    {
      "cell_type": "markdown",
      "metadata": {
        "id": "kMnGWUPBw_FR"
      },
      "source": [
        "Observations: According to our statistics dataframe, everything seems normal except for the 'Fare' column which has a mean of 32.20 but its 50% percentile is 14, and its max value is 512. We could say 512 seems to be an outlier but it could be a typing error. It is also possible that the most expensive ticket had that price. It would be useful if we do some research and confirm that information."
      ]
    },
    {
      "cell_type": "code",
      "execution_count": 90,
      "metadata": {
        "colab": {
          "base_uri": "https://localhost:8080/",
          "height": 407
        },
        "id": "ESfyEKgtw_pg",
        "outputId": "4d357f68-f215-4b7e-9ff3-a9f49ec85eaa"
      },
      "outputs": [
        {
          "data": {
            "text/plain": [
              "Text(0, 0.5, 'Fare')"
            ]
          },
          "execution_count": 90,
          "metadata": {},
          "output_type": "execute_result"
        },
        {
          "data": {
            "image/png": "[encoded data removed]",
            "text/plain": [
              "<Figure size 432x432 with 1 Axes>"
            ]
          },
          "metadata": {
            "needs_background": "light"
          },
          "output_type": "display_data"
        }
      ],
      "source": [
        "#Let's evaluate our 'Fare' variable.\n",
        "plt.figure(figsize=(6,6))\n",
        "sns.boxplot(data=train_data['Fare'])\n",
        "plt.title('Looking for outliers in Fare feature')\n",
        "plt.ylabel('Fare')"
      ]
    },
    {
      "cell_type": "code",
      "execution_count": 91,
      "metadata": {
        "colab": {
          "base_uri": "https://localhost:8080/"
        },
        "id": "iUR7_Cal4lpD",
        "outputId": "fdbbf71f-5a2e-48a0-b0b2-3b8f57cd8d3d"
      },
      "outputs": [
        {
          "data": {
            "text/plain": [
              "count    891.000000\n",
              "mean      32.204208\n",
              "std       49.693429\n",
              "min        0.000000\n",
              "25%        7.910400\n",
              "50%       14.454200\n",
              "75%       31.000000\n",
              "max      512.329200\n",
              "Name: Fare, dtype: float64"
            ]
          },
          "execution_count": 91,
          "metadata": {},
          "output_type": "execute_result"
        }
      ],
      "source": [
        "fare_stat = train_data['Fare'].describe()\n",
        "fare_stat"
      ]
    },
    {
      "cell_type": "code",
      "execution_count": 92,
      "metadata": {
        "colab": {
          "base_uri": "https://localhost:8080/"
        },
        "id": "53hmErCS4xKh",
        "outputId": "8bc219cd-3f95-4a41-9e3d-e3bc75455e3a"
      },
      "outputs": [
        {
          "name": "stdout",
          "output_type": "stream",
          "text": [
            "The upper & lower bounds for suspected outliers are 65.6344 and -26.724.\n"
          ]
        }
      ],
      "source": [
        "IQR = fare_stat['75%']-fare_stat['25%']\n",
        "upper = fare_stat['75%'] + 1.5*IQR\n",
        "lower = fare_stat['25%'] - 1.5*IQR\n",
        "print('The upper & lower bounds for suspected outliers are {} and {}.'.format(upper,lower))"
      ]
    },
    {
      "cell_type": "markdown",
      "metadata": {
        "id": "1HmUXg2z5S65"
      },
      "source": [
        "Based on this results, we should drop Fare values above 65. However, our criteria is very important here, and based on the prices we saw in the boxplot the most extreme values are above 300. Let's see how many values represent that extreme value of 512 and drop them."
      ]
    },
    {
      "cell_type": "code",
      "execution_count": 93,
      "metadata": {
        "colab": {
          "base_uri": "https://localhost:8080/",
          "height": 49
        },
        "id": "OqNwYHWT5RFt",
        "outputId": "3bb606d9-d2b8-4b05-eaaa-ba65fc5cacf6"
      },
      "outputs": [
        {
          "data": {
            "text/html": [
              "<div>\n",
              "<style scoped>\n",
              "    .dataframe tbody tr th:only-of-type {\n",
              "        vertical-align: middle;\n",
              "    }\n",
              "\n",
              "    .dataframe tbody tr th {\n",
              "        vertical-align: top;\n",
              "    }\n",
              "\n",
              "    .dataframe thead th {\n",
              "        text-align: right;\n",
              "    }\n",
              "</style>\n",
              "<table border=\"1\" class=\"dataframe\">\n",
              "  <thead>\n",
              "    <tr style=\"text-align: right;\">\n",
              "      <th></th>\n",
              "      <th>Survived</th>\n",
              "      <th>Pclass</th>\n",
              "      <th>Sex</th>\n",
              "      <th>Age</th>\n",
              "      <th>SibSp</th>\n",
              "      <th>Parch</th>\n",
              "      <th>Fare</th>\n",
              "      <th>Embarked</th>\n",
              "    </tr>\n",
              "  </thead>\n",
              "  <tbody>\n",
              "    <tr>\n",
              "      <th>258</th>\n",
              "      <td>1</td>\n",
              "      <td>1</td>\n",
              "      <td>female</td>\n",
              "      <td>35.0</td>\n",
              "      <td>0</td>\n",
              "      <td>0</td>\n",
              "      <td>512.3292</td>\n",
              "      <td>C</td>\n",
              "    </tr>\n",
              "    <tr>\n",
              "      <th>679</th>\n",
              "      <td>1</td>\n",
              "      <td>1</td>\n",
              "      <td>male</td>\n",
              "      <td>36.0</td>\n",
              "      <td>0</td>\n",
              "      <td>1</td>\n",
              "      <td>512.3292</td>\n",
              "      <td>C</td>\n",
              "    </tr>\n",
              "    <tr>\n",
              "      <th>737</th>\n",
              "      <td>1</td>\n",
              "      <td>1</td>\n",
              "      <td>male</td>\n",
              "      <td>35.0</td>\n",
              "      <td>0</td>\n",
              "      <td>0</td>\n",
              "      <td>512.3292</td>\n",
              "      <td>C</td>\n",
              "    </tr>\n",
              "  </tbody>\n",
              "</table>\n",
              "</div>"
            ],
            "text/plain": [
              "    Survived  Pclass     Sex   Age  SibSp  Parch      Fare Embarked\n",
              "258        1       1  female  35.0      0      0  512.3292        C\n",
              "679        1       1    male  36.0      0      1  512.3292        C\n",
              "737        1       1    male  35.0      0      0  512.3292        C"
            ]
          },
          "execution_count": 93,
          "metadata": {},
          "output_type": "execute_result"
        }
      ],
      "source": [
        "#visualizing data with fare above 300\n",
        "train_data[train_data['Fare'] > 300]"
      ]
    },
    {
      "cell_type": "code",
      "execution_count": 94,
      "metadata": {
        "id": "N6J_sMYb6P7w"
      },
      "outputs": [],
      "source": [
        "#Dropping data with fare above 300\n",
        "train_data.drop(train_data[(train_data['Fare'] > 300)].index, inplace=True)"
      ]
    },
    {
      "cell_type": "code",
      "execution_count": 95,
      "metadata": {
        "colab": {
          "base_uri": "https://localhost:8080/"
        },
        "id": "X_hfvAuU6RL-",
        "outputId": "892f5daf-2209-48ab-86a8-f86e64033b02"
      },
      "outputs": [
        {
          "data": {
            "text/plain": [
              "(888, 8)"
            ]
          },
          "execution_count": 95,
          "metadata": {},
          "output_type": "execute_result"
        }
      ],
      "source": [
        "#drop 3 outliers\n",
        "train_data.shape"
      ]
    },
    {
      "cell_type": "markdown",
      "metadata": {
        "id": "9RWXJsw46an5"
      },
      "source": [
        "# MISSING VALUES"
      ]
    },
    {
      "cell_type": "code",
      "execution_count": 96,
      "metadata": {
        "colab": {
          "base_uri": "https://localhost:8080/"
        },
        "id": "Gyv0OFhS6c1e",
        "outputId": "80bdd443-86f3-49f7-ecd0-349fc96754ff"
      },
      "outputs": [
        {
          "data": {
            "text/plain": [
              "Age         177\n",
              "Embarked      2\n",
              "Survived      0\n",
              "Pclass        0\n",
              "Sex           0\n",
              "SibSp         0\n",
              "Parch         0\n",
              "Fare          0\n",
              "dtype: int64"
            ]
          },
          "execution_count": 96,
          "metadata": {},
          "output_type": "execute_result"
        }
      ],
      "source": [
        "#get the amount missing values per columns\n",
        "train_data[train_data.columns].isnull().sum().sort_values(ascending=False)"
      ]
    },
    {
      "cell_type": "code",
      "execution_count": 97,
      "metadata": {
        "colab": {
          "base_uri": "https://localhost:8080/"
        },
        "id": "dMAfwUPb8sPO",
        "outputId": "5bbb01e8-14ee-4e99-8ff9-3a4a8d7cfda6"
      },
      "outputs": [
        {
          "data": {
            "text/plain": [
              "Age         0.199324\n",
              "Embarked    0.002252\n",
              "Survived    0.000000\n",
              "Pclass      0.000000\n",
              "Sex         0.000000\n",
              "SibSp       0.000000\n",
              "Parch       0.000000\n",
              "Fare        0.000000\n",
              "dtype: float64"
            ]
          },
          "execution_count": 97,
          "metadata": {},
          "output_type": "execute_result"
        }
      ],
      "source": [
        "#get the percentage of missing values in each column\n",
        "train_data[train_data.columns].isnull().sum().sort_values(ascending=False)/len(train_data)"
      ]
    },
    {
      "cell_type": "code",
      "execution_count": 98,
      "metadata": {
        "colab": {
          "base_uri": "https://localhost:8080/",
          "height": 300
        },
        "id": "Jubb1_uKCtQZ",
        "outputId": "beac9215-3d75-4a93-afe7-6ce905cf295e"
      },
      "outputs": [
        {
          "data": {
            "text/html": [
              "<div>\n",
              "<style scoped>\n",
              "    .dataframe tbody tr th:only-of-type {\n",
              "        vertical-align: middle;\n",
              "    }\n",
              "\n",
              "    .dataframe tbody tr th {\n",
              "        vertical-align: top;\n",
              "    }\n",
              "\n",
              "    .dataframe thead th {\n",
              "        text-align: right;\n",
              "    }\n",
              "</style>\n",
              "<table border=\"1\" class=\"dataframe\">\n",
              "  <thead>\n",
              "    <tr style=\"text-align: right;\">\n",
              "      <th></th>\n",
              "      <th>Pclass</th>\n",
              "      <th>Age</th>\n",
              "      <th>SibSp</th>\n",
              "      <th>Parch</th>\n",
              "      <th>Fare</th>\n",
              "    </tr>\n",
              "  </thead>\n",
              "  <tbody>\n",
              "    <tr>\n",
              "      <th>count</th>\n",
              "      <td>888.000000</td>\n",
              "      <td>888.000000</td>\n",
              "      <td>888.000000</td>\n",
              "      <td>888.000000</td>\n",
              "      <td>888.000000</td>\n",
              "    </tr>\n",
              "    <tr>\n",
              "      <th>mean</th>\n",
              "      <td>2.313063</td>\n",
              "      <td>29.341408</td>\n",
              "      <td>0.524775</td>\n",
              "      <td>0.381757</td>\n",
              "      <td>30.582164</td>\n",
              "    </tr>\n",
              "    <tr>\n",
              "      <th>std</th>\n",
              "      <td>0.834007</td>\n",
              "      <td>13.037026</td>\n",
              "      <td>1.104186</td>\n",
              "      <td>0.806949</td>\n",
              "      <td>41.176366</td>\n",
              "    </tr>\n",
              "    <tr>\n",
              "      <th>min</th>\n",
              "      <td>1.000000</td>\n",
              "      <td>0.420000</td>\n",
              "      <td>0.000000</td>\n",
              "      <td>0.000000</td>\n",
              "      <td>0.000000</td>\n",
              "    </tr>\n",
              "    <tr>\n",
              "      <th>25%</th>\n",
              "      <td>2.000000</td>\n",
              "      <td>22.000000</td>\n",
              "      <td>0.000000</td>\n",
              "      <td>0.000000</td>\n",
              "      <td>7.895800</td>\n",
              "    </tr>\n",
              "    <tr>\n",
              "      <th>50%</th>\n",
              "      <td>3.000000</td>\n",
              "      <td>28.000000</td>\n",
              "      <td>0.000000</td>\n",
              "      <td>0.000000</td>\n",
              "      <td>14.454200</td>\n",
              "    </tr>\n",
              "    <tr>\n",
              "      <th>75%</th>\n",
              "      <td>3.000000</td>\n",
              "      <td>35.000000</td>\n",
              "      <td>1.000000</td>\n",
              "      <td>0.000000</td>\n",
              "      <td>30.771850</td>\n",
              "    </tr>\n",
              "    <tr>\n",
              "      <th>max</th>\n",
              "      <td>3.000000</td>\n",
              "      <td>80.000000</td>\n",
              "      <td>8.000000</td>\n",
              "      <td>6.000000</td>\n",
              "      <td>263.000000</td>\n",
              "    </tr>\n",
              "  </tbody>\n",
              "</table>\n",
              "</div>"
            ],
            "text/plain": [
              "           Pclass         Age       SibSp       Parch        Fare\n",
              "count  888.000000  888.000000  888.000000  888.000000  888.000000\n",
              "mean     2.313063   29.341408    0.524775    0.381757   30.582164\n",
              "std      0.834007   13.037026    1.104186    0.806949   41.176366\n",
              "min      1.000000    0.420000    0.000000    0.000000    0.000000\n",
              "25%      2.000000   22.000000    0.000000    0.000000    7.895800\n",
              "50%      3.000000   28.000000    0.000000    0.000000   14.454200\n",
              "75%      3.000000   35.000000    1.000000    0.000000   30.771850\n",
              "max      3.000000   80.000000    8.000000    6.000000  263.000000"
            ]
          },
          "execution_count": 98,
          "metadata": {},
          "output_type": "execute_result"
        }
      ],
      "source": [
        "# Handling Missing Values in train_data\n",
        "\n",
        "## Fill missing AGE with Median of the survided and not survided is the same\n",
        "train_data['Age'].fillna(train_data['Age'].median(), inplace=True)\n",
        "\n",
        "## Fill missing EMBARKED with Mode\n",
        "train_data['Embarked'].fillna(train_data['Embarked'].mode()[0], inplace=True)\n",
        "\n",
        "train_data.describe()"
      ]
    },
    {
      "cell_type": "markdown",
      "metadata": {
        "id": "Zna7t5MCFLKm"
      },
      "source": [
        "# New Feature"
      ]
    },
    {
      "cell_type": "code",
      "execution_count": 99,
      "metadata": {
        "colab": {
          "base_uri": "https://localhost:8080/"
        },
        "id": "7joHSN0CFOfY",
        "outputId": "7191df6e-9dab-432d-ecd8-7c1874ab93b6"
      },
      "outputs": [
        {
          "name": "stdout",
          "output_type": "stream",
          "text": [
            "    Survived  Pclass     Sex   Age  SibSp  Parch     Fare Embarked\n",
            "0          0       3    male  22.0      1      0   7.2500        S\n",
            "1          1       1  female  38.0      1      0  71.2833        C\n",
            "2          1       3  female  26.0      0      0   7.9250        S\n",
            "3          1       1  female  35.0      1      0  53.1000        S\n",
            "4          0       3    male  35.0      0      0   8.0500        S\n",
            "..       ...     ...     ...   ...    ...    ...      ...      ...\n",
            "886        0       2    male  27.0      0      0  13.0000        S\n",
            "887        1       1  female  19.0      0      0  30.0000        S\n",
            "888        0       3  female  28.0      1      2  23.4500        S\n",
            "889        1       1    male  26.0      0      0  30.0000        C\n",
            "890        0       3    male  32.0      0      0   7.7500        Q\n",
            "\n",
            "[888 rows x 8 columns]\n",
            "    Survived  Pclass     Sex   Age  SibSp  Parch     Fare Embarked  fam_mbrs\n",
            "0          0       3    male  22.0      1      0   7.2500        S         1\n",
            "1          1       1  female  38.0      1      0  71.2833        C         1\n",
            "2          1       3  female  26.0      0      0   7.9250        S         0\n",
            "3          1       1  female  35.0      1      0  53.1000        S         1\n",
            "4          0       3    male  35.0      0      0   8.0500        S         0\n",
            "..       ...     ...     ...   ...    ...    ...      ...      ...       ...\n",
            "886        0       2    male  27.0      0      0  13.0000        S         0\n",
            "887        1       1  female  19.0      0      0  30.0000        S         0\n",
            "888        0       3  female  28.0      1      2  23.4500        S         3\n",
            "889        1       1    male  26.0      0      0  30.0000        C         0\n",
            "890        0       3    male  32.0      0      0   7.7500        Q         0\n",
            "\n",
            "[888 rows x 9 columns]\n"
          ]
        }
      ],
      "source": [
        "# We will create a new column to show how many family members of each passenger were in the Titanic.\n",
        "# We will calculate it based on the sum of SibSp (siblings and spouse) and Parch  (parents and children)\n",
        "\n",
        "print(train_data)\n",
        "\n",
        "train_data[\"fam_mbrs\"] = train_data[\"SibSp\"] + train_data[\"Parch\"]\n",
        "\n",
        "print(train_data)"
      ]
    },
    {
      "cell_type": "markdown",
      "metadata": {
        "id": "2HJ4YqNSH7nT"
      },
      "source": [
        "# FEATURE ENCODING FOR CATEGORICAL VARIABLES"
      ]
    },
    {
      "cell_type": "markdown",
      "metadata": {
        "id": "kj8yzAn7H_0N"
      },
      "source": [
        "Feature encoding is the process of turning categorical data in a dataset into numerical data. It is essential that we perform feature encoding because most machine learning models can only interpret numerical data and not data in text form."
      ]
    },
    {
      "cell_type": "code",
      "execution_count": 100,
      "metadata": {
        "id": "HMBnJLVNJTUh"
      },
      "outputs": [],
      "source": [
        "#Train data\n",
        "\n",
        "# Encoding the 'Sex' column\n",
        "train_data['Sex'] = train_data['Sex'].apply(lambda x: 1 if x == 'male' else 0)\n",
        "\n",
        "# Encoding the 'Embarked' column\n",
        "train_data['Embarked'] = train_data['Embarked'].map({'S' : 0, 'C': 1, 'Q': 2})\n"
      ]
    },
    {
      "cell_type": "code",
      "execution_count": 101,
      "metadata": {
        "colab": {
          "base_uri": "https://localhost:8080/",
          "height": 206
        },
        "id": "1nc26ptGJhgz",
        "outputId": "79fee949-3409-43ca-cf7f-7293d920206b"
      },
      "outputs": [
        {
          "data": {
            "text/html": [
              "<div>\n",
              "<style scoped>\n",
              "    .dataframe tbody tr th:only-of-type {\n",
              "        vertical-align: middle;\n",
              "    }\n",
              "\n",
              "    .dataframe tbody tr th {\n",
              "        vertical-align: top;\n",
              "    }\n",
              "\n",
              "    .dataframe thead th {\n",
              "        text-align: right;\n",
              "    }\n",
              "</style>\n",
              "<table border=\"1\" class=\"dataframe\">\n",
              "  <thead>\n",
              "    <tr style=\"text-align: right;\">\n",
              "      <th></th>\n",
              "      <th>Survived</th>\n",
              "      <th>Pclass</th>\n",
              "      <th>Sex</th>\n",
              "      <th>Age</th>\n",
              "      <th>SibSp</th>\n",
              "      <th>Parch</th>\n",
              "      <th>Fare</th>\n",
              "      <th>Embarked</th>\n",
              "      <th>fam_mbrs</th>\n",
              "    </tr>\n",
              "  </thead>\n",
              "  <tbody>\n",
              "    <tr>\n",
              "      <th>0</th>\n",
              "      <td>0</td>\n",
              "      <td>3</td>\n",
              "      <td>1</td>\n",
              "      <td>22.0</td>\n",
              "      <td>1</td>\n",
              "      <td>0</td>\n",
              "      <td>7.2500</td>\n",
              "      <td>0</td>\n",
              "      <td>1</td>\n",
              "    </tr>\n",
              "    <tr>\n",
              "      <th>1</th>\n",
              "      <td>1</td>\n",
              "      <td>1</td>\n",
              "      <td>0</td>\n",
              "      <td>38.0</td>\n",
              "      <td>1</td>\n",
              "      <td>0</td>\n",
              "      <td>71.2833</td>\n",
              "      <td>1</td>\n",
              "      <td>1</td>\n",
              "    </tr>\n",
              "    <tr>\n",
              "      <th>2</th>\n",
              "      <td>1</td>\n",
              "      <td>3</td>\n",
              "      <td>0</td>\n",
              "      <td>26.0</td>\n",
              "      <td>0</td>\n",
              "      <td>0</td>\n",
              "      <td>7.9250</td>\n",
              "      <td>0</td>\n",
              "      <td>0</td>\n",
              "    </tr>\n",
              "    <tr>\n",
              "      <th>3</th>\n",
              "      <td>1</td>\n",
              "      <td>1</td>\n",
              "      <td>0</td>\n",
              "      <td>35.0</td>\n",
              "      <td>1</td>\n",
              "      <td>0</td>\n",
              "      <td>53.1000</td>\n",
              "      <td>0</td>\n",
              "      <td>1</td>\n",
              "    </tr>\n",
              "    <tr>\n",
              "      <th>4</th>\n",
              "      <td>0</td>\n",
              "      <td>3</td>\n",
              "      <td>1</td>\n",
              "      <td>35.0</td>\n",
              "      <td>0</td>\n",
              "      <td>0</td>\n",
              "      <td>8.0500</td>\n",
              "      <td>0</td>\n",
              "      <td>0</td>\n",
              "    </tr>\n",
              "  </tbody>\n",
              "</table>\n",
              "</div>"
            ],
            "text/plain": [
              "  Survived  Pclass Sex   Age  SibSp  Parch     Fare Embarked  fam_mbrs\n",
              "0        0       3   1  22.0      1      0   7.2500        0         1\n",
              "1        1       1   0  38.0      1      0  71.2833        1         1\n",
              "2        1       3   0  26.0      0      0   7.9250        0         0\n",
              "3        1       1   0  35.0      1      0  53.1000        0         1\n",
              "4        0       3   1  35.0      0      0   8.0500        0         0"
            ]
          },
          "execution_count": 101,
          "metadata": {},
          "output_type": "execute_result"
        }
      ],
      "source": [
        "#Verifying all our features are now numbers\n",
        "\n",
        "train_data.head()"
      ]
    },
    {
      "cell_type": "markdown",
      "metadata": {
        "id": "493p0oTzNhyj"
      },
      "source": [
        "#FEATURE SCALING\n",
        "\n",
        "So now that we have all our features converted into numbers, are they ready for modeling? It depends if all our features are on the same scale or not. To read what does it mean to have different scales and the methods to standarize them, go to the following link"
      ]
    },
    {
      "cell_type": "code",
      "execution_count": 102,
      "metadata": {
        "id": "lsS_Ua-r9TLP"
      },
      "outputs": [],
      "source": [
        "from sklearn.preprocessing import MinMaxScaler\n"
      ]
    },
    {
      "cell_type": "code",
      "execution_count": 103,
      "metadata": {
        "id": "0XcADrUl-oTL"
      },
      "outputs": [],
      "source": [
        "scaler = MinMaxScaler()"
      ]
    },
    {
      "cell_type": "code",
      "execution_count": 104,
      "metadata": {
        "id": "8uksveiz-_OD"
      },
      "outputs": [],
      "source": [
        "train_scaler = scaler.fit(train_data[['Age','Fare']])\n",
        "train_data[['Age','Fare']] = train_scaler.transform(train_data[['Age','Fare']])"
      ]
    },
    {
      "cell_type": "code",
      "execution_count": 105,
      "metadata": {
        "colab": {
          "base_uri": "https://localhost:8080/",
          "height": 206
        },
        "id": "n8NNArm1_WnS",
        "outputId": "aad03f1b-3305-465c-a659-80c27c6fa240"
      },
      "outputs": [
        {
          "data": {
            "text/html": [
              "<div>\n",
              "<style scoped>\n",
              "    .dataframe tbody tr th:only-of-type {\n",
              "        vertical-align: middle;\n",
              "    }\n",
              "\n",
              "    .dataframe tbody tr th {\n",
              "        vertical-align: top;\n",
              "    }\n",
              "\n",
              "    .dataframe thead th {\n",
              "        text-align: right;\n",
              "    }\n",
              "</style>\n",
              "<table border=\"1\" class=\"dataframe\">\n",
              "  <thead>\n",
              "    <tr style=\"text-align: right;\">\n",
              "      <th></th>\n",
              "      <th>Survived</th>\n",
              "      <th>Pclass</th>\n",
              "      <th>Sex</th>\n",
              "      <th>Age</th>\n",
              "      <th>SibSp</th>\n",
              "      <th>Parch</th>\n",
              "      <th>Fare</th>\n",
              "      <th>Embarked</th>\n",
              "      <th>fam_mbrs</th>\n",
              "    </tr>\n",
              "  </thead>\n",
              "  <tbody>\n",
              "    <tr>\n",
              "      <th>0</th>\n",
              "      <td>0</td>\n",
              "      <td>3</td>\n",
              "      <td>1</td>\n",
              "      <td>0.271174</td>\n",
              "      <td>1</td>\n",
              "      <td>0</td>\n",
              "      <td>0.027567</td>\n",
              "      <td>0</td>\n",
              "      <td>1</td>\n",
              "    </tr>\n",
              "    <tr>\n",
              "      <th>1</th>\n",
              "      <td>1</td>\n",
              "      <td>1</td>\n",
              "      <td>0</td>\n",
              "      <td>0.472229</td>\n",
              "      <td>1</td>\n",
              "      <td>0</td>\n",
              "      <td>0.271039</td>\n",
              "      <td>1</td>\n",
              "      <td>1</td>\n",
              "    </tr>\n",
              "    <tr>\n",
              "      <th>2</th>\n",
              "      <td>1</td>\n",
              "      <td>3</td>\n",
              "      <td>0</td>\n",
              "      <td>0.321438</td>\n",
              "      <td>0</td>\n",
              "      <td>0</td>\n",
              "      <td>0.030133</td>\n",
              "      <td>0</td>\n",
              "      <td>0</td>\n",
              "    </tr>\n",
              "    <tr>\n",
              "      <th>3</th>\n",
              "      <td>1</td>\n",
              "      <td>1</td>\n",
              "      <td>0</td>\n",
              "      <td>0.434531</td>\n",
              "      <td>1</td>\n",
              "      <td>0</td>\n",
              "      <td>0.201901</td>\n",
              "      <td>0</td>\n",
              "      <td>1</td>\n",
              "    </tr>\n",
              "    <tr>\n",
              "      <th>4</th>\n",
              "      <td>0</td>\n",
              "      <td>3</td>\n",
              "      <td>1</td>\n",
              "      <td>0.434531</td>\n",
              "      <td>0</td>\n",
              "      <td>0</td>\n",
              "      <td>0.030608</td>\n",
              "      <td>0</td>\n",
              "      <td>0</td>\n",
              "    </tr>\n",
              "  </tbody>\n",
              "</table>\n",
              "</div>"
            ],
            "text/plain": [
              "  Survived  Pclass Sex       Age  SibSp  Parch      Fare Embarked  fam_mbrs\n",
              "0        0       3   1  0.271174      1      0  0.027567        0         1\n",
              "1        1       1   0  0.472229      1      0  0.271039        1         1\n",
              "2        1       3   0  0.321438      0      0  0.030133        0         0\n",
              "3        1       1   0  0.434531      1      0  0.201901        0         1\n",
              "4        0       3   1  0.434531      0      0  0.030608        0         0"
            ]
          },
          "execution_count": 105,
          "metadata": {},
          "output_type": "execute_result"
        }
      ],
      "source": [
        "train_data.head()"
      ]
    },
    {
      "cell_type": "markdown",
      "metadata": {
        "id": "pMVSRPTqCK52"
      },
      "source": [
        "# MODEL USING DESICION TREE\n"
      ]
    },
    {
      "cell_type": "code",
      "execution_count": 106,
      "metadata": {},
      "outputs": [],
      "source": [
        "X = train_data[list(train_data.columns[1:9])]\n",
        "y = train_data[['Survived']]\n"
      ]
    },
    {
      "cell_type": "code",
      "execution_count": 107,
      "metadata": {},
      "outputs": [],
      "source": [
        "#Split the data\n",
        "X_train, X_test, y_train, y_test = train_test_split(X, y, stratify=y,random_state=34)"
      ]
    },
    {
      "cell_type": "code",
      "execution_count": 108,
      "metadata": {},
      "outputs": [
        {
          "name": "stdout",
          "output_type": "stream",
          "text": [
            " Max Depth  Average Accuracy\n",
            "         1          0.779279\n",
            "         2          0.779279\n",
            "         3          0.788288\n",
            "         4          0.797297\n",
            "         5          0.815315\n",
            "         6          0.801802\n",
            "         7          0.810811\n",
            "         8          0.806306\n"
          ]
        }
      ],
      "source": [
        "accuracies = list()\n",
        "nro_feature = X_train.columns.size\n",
        "depth_range = range(1, nro_feature+1)\n",
        "\n",
        "# Testearemos la profundidad de 1 a cantidad de atributos +1\n",
        "for depth in depth_range:\n",
        "    tree_model = DecisionTreeClassifier(criterion='entropy',\n",
        "                                             min_samples_split=20,\n",
        "                                             min_samples_leaf=5,\n",
        "                                             max_depth = depth,\n",
        "                                             random_state=0)\n",
        "    tree_model.fit(X_train, y_train)\n",
        "    accuracies.append(tree_model.score(X_test, y_test))\n",
        "    \n",
        "# Mostramos los resultados obtenidos\n",
        "df = pd.DataFrame({\"Max Depth\": depth_range, \"Average Accuracy\": accuracies})\n",
        "df = df[[\"Max Depth\", \"Average Accuracy\"]]\n",
        "print(df.to_string(index=False))"
      ]
    },
    {
      "cell_type": "code",
      "execution_count": 109,
      "metadata": {},
      "outputs": [
        {
          "name": "stdout",
          "output_type": "stream",
          "text": [
            "Accuracy: 0.8153153153153153\n"
          ]
        }
      ],
      "source": [
        "clf = DecisionTreeClassifier(criterion='entropy',\n",
        "                             min_samples_split=20,\n",
        "                             min_samples_leaf=5,\n",
        "                             random_state=0, max_depth=5)\n",
        "\n",
        "clf.fit(X_train, y_train)\n",
        "print('Accuracy:',clf.score(X_test, y_test))"
      ]
    },
    {
      "cell_type": "code",
      "execution_count": 110,
      "metadata": {},
      "outputs": [
        {
          "name": "stdout",
          "output_type": "stream",
          "text": [
            "Pclass: 0.1876471374408895\n",
            "Sex: 0.46502900667874203\n",
            "Age: 0.1032823198415946\n",
            "SibSp: 0.050371591664837595\n",
            "Parch: 0.0\n",
            "Fare: 0.1396659054733688\n",
            "Embarked: 0.05400403890056743\n",
            "fam_mbrs: 0.0\n"
          ]
        }
      ],
      "source": [
        "# tree.feature_importances_ es un vector con la importancia estimada de cada atributo\n",
        "for name, importance in zip(train_data.columns[1:], clf.feature_importances_):\n",
        "    print(name + ': ' + str(importance))"
      ]
    },
    {
      "cell_type": "code",
      "execution_count": 111,
      "metadata": {},
      "outputs": [],
      "source": [
        "#show predicted dataset\n",
        "clf_pred=clf.predict(X_test)"
      ]
    },
    {
      "cell_type": "code",
      "execution_count": 112,
      "metadata": {},
      "outputs": [
        {
          "data": {
            "image/png": "[encoded data removed]",
            "text/plain": [
              "<Figure size 432x288 with 2 Axes>"
            ]
          },
          "metadata": {
            "needs_background": "light"
          },
          "output_type": "display_data"
        }
      ],
      "source": [
        "cm = confusion_matrix(y_test, clf_pred, labels=clf.classes_)\n",
        "disp = ConfusionMatrixDisplay(confusion_matrix=cm, display_labels=clf.classes_)\n",
        "disp.plot()\n",
        "\n",
        "plt.show()"
      ]
    },
    {
      "cell_type": "code",
      "execution_count": 113,
      "metadata": {},
      "outputs": [
        {
          "data": {
            "image/png": "[encoded data removed]",
            "text/plain": [
              "<Figure size 720x576 with 1 Axes>"
            ]
          },
          "metadata": {
            "needs_background": "light"
          },
          "output_type": "display_data"
        }
      ],
      "source": [
        "plt.figure(figsize=(10,8))\n",
        "plot_tree(clf)\n",
        "plt.show()"
      ]
    },
    {
      "cell_type": "markdown",
      "metadata": {},
      "source": [
        "## VERSION WITHOUT COLUMN"
      ]
    },
    {
      "cell_type": "code",
      "execution_count": 114,
      "metadata": {},
      "outputs": [],
      "source": [
        "X2 = train_data[['Pclass','Sex','Age']]\n",
        "y2 = train_data[['Survived']]\n",
        "\n",
        "#Split the data\n",
        "X2_train, X2_test, y2_train, y2_test = train_test_split(X2, y2, stratify=y2,random_state=34)"
      ]
    },
    {
      "cell_type": "code",
      "execution_count": 115,
      "metadata": {},
      "outputs": [
        {
          "name": "stdout",
          "output_type": "stream",
          "text": [
            "Accuracy: 0.7837837837837838\n"
          ]
        }
      ],
      "source": [
        "clf2 = DecisionTreeClassifier(criterion='entropy',\n",
        "                             min_samples_split=20,\n",
        "                             min_samples_leaf=20,\n",
        "                             random_state=0, max_depth=4)\n",
        "\n",
        "clf2.fit(X2_train, y2_train)\n",
        "print('Accuracy:',clf2.score(X2_test, y2_test))"
      ]
    },
    {
      "cell_type": "code",
      "execution_count": 116,
      "metadata": {},
      "outputs": [],
      "source": [
        "#show predicted dataset\n",
        "clf2_pred=clf2.predict(X2_test)"
      ]
    },
    {
      "cell_type": "code",
      "execution_count": 117,
      "metadata": {},
      "outputs": [
        {
          "data": {
            "image/png": "[encoded data removed]",
            "text/plain": [
              "<Figure size 432x288 with 2 Axes>"
            ]
          },
          "metadata": {
            "needs_background": "light"
          },
          "output_type": "display_data"
        }
      ],
      "source": [
        "cm2 = confusion_matrix(y2_test, clf2_pred, labels=clf2.classes_)\n",
        "disp = ConfusionMatrixDisplay(confusion_matrix=cm2, display_labels=clf2.classes_)\n",
        "disp.plot()\n",
        "\n",
        "plt.show()"
      ]
    },
    {
      "cell_type": "code",
      "execution_count": 118,
      "metadata": {},
      "outputs": [
        {
          "data": {
            "image/png": "[encoded data removed]",
            "text/plain": [
              "<Figure size 720x576 with 1 Axes>"
            ]
          },
          "metadata": {
            "needs_background": "light"
          },
          "output_type": "display_data"
        }
      ],
      "source": [
        "plt.figure(figsize=(10,8))\n",
        "plot_tree(clf2)\n",
        "plt.show()"
      ]
    },
    {
      "cell_type": "markdown",
      "metadata": {},
      "source": []
    },
    {
      "cell_type": "markdown",
      "metadata": {},
      "source": [
        "## Using GridSearchCV"
      ]
    },
    {
      "cell_type": "code",
      "execution_count": 120,
      "metadata": {},
      "outputs": [],
      "source": [
        "max_features = range(1,X_train.columns.size+1)\n",
        "criterion = ['gini', 'entropy']\n",
        "max_depth = [2,3,4,5]\n",
        "parameters = dict(max_features=max_features,\n",
        "                      criterion=criterion,\n",
        "                      max_depth=max_depth,\n",
        "                      min_samples_split=[20,30],\n",
        "                      min_samples_leaf=[5,10])"
      ]
    },
    {
      "cell_type": "code",
      "execution_count": 121,
      "metadata": {},
      "outputs": [
        {
          "data": {
            "text/html": [
              "<style>#sk-container-id-1 {color: black;background-color: white;}#sk-container-id-1 pre{padding: 0;}#sk-container-id-1 div.sk-toggleable {background-color: white;}#sk-container-id-1 label.sk-toggleable__label {cursor: pointer;display: block;width: 100%;margin-bottom: 0;padding: 0.3em;box-sizing: border-box;text-align: center;}#sk-container-id-1 label.sk-toggleable__label-arrow:before {content: \"▸\";float: left;margin-right: 0.25em;color: #696969;}#sk-container-id-1 label.sk-toggleable__label-arrow:hover:before {color: black;}#sk-container-id-1 div.sk-estimator:hover label.sk-toggleable__label-arrow:before {color: black;}#sk-container-id-1 div.sk-toggleable__content {max-height: 0;max-width: 0;overflow: hidden;text-align: left;background-color: #f0f8ff;}#sk-container-id-1 div.sk-toggleable__content pre {margin: 0.2em;color: black;border-radius: 0.25em;background-color: #f0f8ff;}#sk-container-id-1 input.sk-toggleable__control:checked~div.sk-toggleable__content {max-height: 200px;max-width: 100%;overflow: auto;}#sk-container-id-1 input.sk-toggleable__control:checked~label.sk-toggleable__label-arrow:before {content: \"▾\";}#sk-container-id-1 div.sk-estimator input.sk-toggleable__control:checked~label.sk-toggleable__label {background-color: #d4ebff;}#sk-container-id-1 div.sk-label input.sk-toggleable__control:checked~label.sk-toggleable__label {background-color: #d4ebff;}#sk-container-id-1 input.sk-hidden--visually {border: 0;clip: rect(1px 1px 1px 1px);clip: rect(1px, 1px, 1px, 1px);height: 1px;margin: -1px;overflow: hidden;padding: 0;position: absolute;width: 1px;}#sk-container-id-1 div.sk-estimator {font-family: monospace;background-color: #f0f8ff;border: 1px dotted black;border-radius: 0.25em;box-sizing: border-box;margin-bottom: 0.5em;}#sk-container-id-1 div.sk-estimator:hover {background-color: #d4ebff;}#sk-container-id-1 div.sk-parallel-item::after {content: \"\";width: 100%;border-bottom: 1px solid gray;flex-grow: 1;}#sk-container-id-1 div.sk-label:hover label.sk-toggleable__label {background-color: #d4ebff;}#sk-container-id-1 div.sk-serial::before {content: \"\";position: absolute;border-left: 1px solid gray;box-sizing: border-box;top: 0;bottom: 0;left: 50%;z-index: 0;}#sk-container-id-1 div.sk-serial {display: flex;flex-direction: column;align-items: center;background-color: white;padding-right: 0.2em;padding-left: 0.2em;position: relative;}#sk-container-id-1 div.sk-item {position: relative;z-index: 1;}#sk-container-id-1 div.sk-parallel {display: flex;align-items: stretch;justify-content: center;background-color: white;position: relative;}#sk-container-id-1 div.sk-item::before, #sk-container-id-1 div.sk-parallel-item::before {content: \"\";position: absolute;border-left: 1px solid gray;box-sizing: border-box;top: 0;bottom: 0;left: 50%;z-index: -1;}#sk-container-id-1 div.sk-parallel-item {display: flex;flex-direction: column;z-index: 1;position: relative;background-color: white;}#sk-container-id-1 div.sk-parallel-item:first-child::after {align-self: flex-end;width: 50%;}#sk-container-id-1 div.sk-parallel-item:last-child::after {align-self: flex-start;width: 50%;}#sk-container-id-1 div.sk-parallel-item:only-child::after {width: 0;}#sk-container-id-1 div.sk-dashed-wrapped {border: 1px dashed gray;margin: 0 0.4em 0.5em 0.4em;box-sizing: border-box;padding-bottom: 0.4em;background-color: white;}#sk-container-id-1 div.sk-label label {font-family: monospace;font-weight: bold;display: inline-block;line-height: 1.2em;}#sk-container-id-1 div.sk-label-container {text-align: center;}#sk-container-id-1 div.sk-container {/* jupyter's `normalize.less` sets `[hidden] { display: none; }` but bootstrap.min.css set `[hidden] { display: none !important; }` so we also need the `!important` here to be able to override the default hidden behavior on the sphinx rendered scikit-learn.org. See: https://github.com/scikit-learn/scikit-learn/issues/21755 */display: inline-block !important;position: relative;}#sk-container-id-1 div.sk-text-repr-fallback {display: none;}</style><div id=\"sk-container-id-1\" class=\"sk-top-container\"><div class=\"sk-text-repr-fallback\"><pre>GridSearchCV(estimator=DecisionTreeClassifier(random_state=0),\n",
              "             param_grid={&#x27;criterion&#x27;: [&#x27;gini&#x27;, &#x27;entropy&#x27;],\n",
              "                         &#x27;max_depth&#x27;: [2, 3, 4, 5], &#x27;max_features&#x27;: range(1, 9),\n",
              "                         &#x27;min_samples_leaf&#x27;: [5, 10],\n",
              "                         &#x27;min_samples_split&#x27;: [20, 30]})</pre><b>In a Jupyter environment, please rerun this cell to show the HTML representation or trust the notebook. <br />On GitHub, the HTML representation is unable to render, please try loading this page with nbviewer.org.</b></div><div class=\"sk-container\" hidden><div class=\"sk-item sk-dashed-wrapped\"><div class=\"sk-label-container\"><div class=\"sk-label sk-toggleable\"><input class=\"sk-toggleable__control sk-hidden--visually\" id=\"sk-estimator-id-1\" type=\"checkbox\" ><label for=\"sk-estimator-id-1\" class=\"sk-toggleable__label sk-toggleable__label-arrow\">GridSearchCV</label><div class=\"sk-toggleable__content\"><pre>GridSearchCV(estimator=DecisionTreeClassifier(random_state=0),\n",
              "             param_grid={&#x27;criterion&#x27;: [&#x27;gini&#x27;, &#x27;entropy&#x27;],\n",
              "                         &#x27;max_depth&#x27;: [2, 3, 4, 5], &#x27;max_features&#x27;: range(1, 9),\n",
              "                         &#x27;min_samples_leaf&#x27;: [5, 10],\n",
              "                         &#x27;min_samples_split&#x27;: [20, 30]})</pre></div></div></div><div class=\"sk-parallel\"><div class=\"sk-parallel-item\"><div class=\"sk-item\"><div class=\"sk-label-container\"><div class=\"sk-label sk-toggleable\"><input class=\"sk-toggleable__control sk-hidden--visually\" id=\"sk-estimator-id-2\" type=\"checkbox\" ><label for=\"sk-estimator-id-2\" class=\"sk-toggleable__label sk-toggleable__label-arrow\">estimator: DecisionTreeClassifier</label><div class=\"sk-toggleable__content\"><pre>DecisionTreeClassifier(random_state=0)</pre></div></div></div><div class=\"sk-serial\"><div class=\"sk-item\"><div class=\"sk-estimator sk-toggleable\"><input class=\"sk-toggleable__control sk-hidden--visually\" id=\"sk-estimator-id-3\" type=\"checkbox\" ><label for=\"sk-estimator-id-3\" class=\"sk-toggleable__label sk-toggleable__label-arrow\">DecisionTreeClassifier</label><div class=\"sk-toggleable__content\"><pre>DecisionTreeClassifier(random_state=0)</pre></div></div></div></div></div></div></div></div></div></div>"
            ],
            "text/plain": [
              "GridSearchCV(estimator=DecisionTreeClassifier(random_state=0),\n",
              "             param_grid={'criterion': ['gini', 'entropy'],\n",
              "                         'max_depth': [2, 3, 4, 5], 'max_features': range(1, 9),\n",
              "                         'min_samples_leaf': [5, 10],\n",
              "                         'min_samples_split': [20, 30]})"
            ]
          },
          "execution_count": 121,
          "metadata": {},
          "output_type": "execute_result"
        }
      ],
      "source": [
        "clf_GS = GridSearchCV(DecisionTreeClassifier(random_state=0), parameters)\n",
        "clf_GS.fit(X, y)"
      ]
    },
    {
      "cell_type": "code",
      "execution_count": 122,
      "metadata": {},
      "outputs": [
        {
          "name": "stdout",
          "output_type": "stream",
          "text": [
            "Best Criterion: gini\n",
            "Best max_depth: 4\n",
            "Best min_samples_split: 30\n",
            "Best min_samples_leaf: 5\n",
            "Best Number Of Components: 6\n"
          ]
        },
        {
          "data": {
            "text/plain": [
              "{'ccp_alpha': 0.0,\n",
              " 'class_weight': None,\n",
              " 'criterion': 'gini',\n",
              " 'max_depth': 4,\n",
              " 'max_features': 6,\n",
              " 'max_leaf_nodes': None,\n",
              " 'min_impurity_decrease': 0.0,\n",
              " 'min_samples_leaf': 5,\n",
              " 'min_samples_split': 30,\n",
              " 'min_weight_fraction_leaf': 0.0,\n",
              " 'random_state': 0,\n",
              " 'splitter': 'best'}"
            ]
          },
          "execution_count": 122,
          "metadata": {},
          "output_type": "execute_result"
        }
      ],
      "source": [
        "print('Best Criterion:', clf_GS.best_estimator_.get_params()['criterion'])\n",
        "print('Best max_depth:', clf_GS.best_estimator_.get_params()['max_depth'])\n",
        "print('Best min_samples_split:', clf_GS.best_estimator_.get_params()['min_samples_split'])\n",
        "print('Best min_samples_leaf:', clf_GS.best_estimator_.get_params()['min_samples_leaf'])\n",
        "print('Best Number Of Components:', clf_GS.best_estimator_.get_params()['max_features'])\n",
        "clf_GS.best_estimator_.get_params()"
      ]
    },
    {
      "cell_type": "code",
      "execution_count": 125,
      "metadata": {},
      "outputs": [
        {
          "name": "stdout",
          "output_type": "stream",
          "text": [
            "Pclass: 0.16400009745534305\n",
            "Sex: 0.4064266764468984\n",
            "Age: 0.14115966271797548\n",
            "SibSp: 0.0\n",
            "Parch: 0.0\n",
            "Fare: 0.16692784760587356\n",
            "Embarked: 0.04719852252190697\n",
            "fam_mbrs: 0.07428719325200248\n"
          ]
        }
      ],
      "source": [
        "# tree.feature_importances_ es un vector con la importancia estimada de cada atributo\n",
        "for name, importance in zip(X_train.columns[0:], tree_model.feature_importances_):\n",
        "    print(name + ': ' + str(importance))"
      ]
    }
  ],
  "metadata": {
    "colab": {
      "collapsed_sections": [],
      "name": "ss_titanic.ipynb",
      "provenance": []
    },
    "kernelspec": {
      "display_name": "Python 3.8.13 64-bit ('3.8.13')",
      "language": "python",
      "name": "python3"
    },
    "language_info": {
      "codemirror_mode": {
        "name": "ipython",
        "version": 3
      },
      "file_extension": ".py",
      "mimetype": "text/x-python",
      "name": "python",
      "nbconvert_exporter": "python",
      "pygments_lexer": "ipython3",
      "version": "3.8.13"
    },
    "vscode": {
      "interpreter": {
        "hash": "110cc1dee26208153f2972f08a2ad52b6a56238dc66d48e87fb757ef2996db56"
      }
    }
  },
  "nbformat": 4,
  "nbformat_minor": 0
}
